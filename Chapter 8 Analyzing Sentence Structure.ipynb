{
 "cells": [
  {
   "cell_type": "code",
   "execution_count": 24,
   "metadata": {},
   "outputs": [],
   "source": [
    "# Library\n",
    "import nltk\n",
    "from nltk import grammar"
   ]
  },
  {
   "cell_type": "code",
   "execution_count": 2,
   "metadata": {},
   "outputs": [],
   "source": [
    ">>> groucho_grammar = nltk.CFG.fromstring(\"\"\"\n",
    "... S -> NP VP\n",
    "... PP -> P NP\n",
    "... NP -> Det N | Det N PP | 'I'\n",
    "... VP -> V NP | VP PP\n",
    "... Det -> 'an' | 'my'\n",
    "... N -> 'elephant' | 'pajamas'\n",
    "... V -> 'shot'\n",
    "... P -> 'in'\n",
    "... \"\"\")"
   ]
  },
  {
   "cell_type": "code",
   "execution_count": 3,
   "metadata": {},
   "outputs": [
    {
     "data": {
      "text/plain": [
       "<Grammar with 13 productions>"
      ]
     },
     "execution_count": 3,
     "metadata": {},
     "output_type": "execute_result"
    }
   ],
   "source": [
    "groucho_grammar"
   ]
  },
  {
   "cell_type": "code",
   "execution_count": 4,
   "metadata": {},
   "outputs": [],
   "source": [
    "sent = 'I shot an elephant in my pajamas'.split(' ')"
   ]
  },
  {
   "cell_type": "code",
   "execution_count": 5,
   "metadata": {},
   "outputs": [
    {
     "name": "stdout",
     "output_type": "stream",
     "text": [
      "(S\n",
      "  (NP I)\n",
      "  (VP\n",
      "    (VP (V shot) (NP (Det an) (N elephant)))\n",
      "    (PP (P in) (NP (Det my) (N pajamas)))))\n",
      "(S\n",
      "  (NP I)\n",
      "  (VP\n",
      "    (V shot)\n",
      "    (NP (Det an) (N elephant) (PP (P in) (NP (Det my) (N pajamas))))))\n"
     ]
    }
   ],
   "source": [
    "parser = nltk.ChartParser(groucho_grammar)\n",
    "trees = parser.parse(sent)\n",
    "for tree in trees:\n",
    "    print(tree)"
   ]
  },
  {
   "cell_type": "code",
   "execution_count": 6,
   "metadata": {},
   "outputs": [],
   "source": [
    "grammer1 = nltk.CFG.fromstring('''\n",
    "  S -> NP VP\n",
    "  VP -> V NP | V NP PP\n",
    "  PP -> P NP\n",
    "  V -> \"saw\" | \"ate\" | \"walked\"\n",
    "  NP -> \"John\" | \"Mary\" | \"Bob\" | Det N | Det N PP\n",
    "  Det -> \"a\" | \"an\" | \"the\" | \"my\"\n",
    "  N -> \"man\" | \"dog\" | \"cat\" | \"telescope\" | \"park\"\n",
    "  P -> \"in\" | \"on\" | \"by\" | \"with\"''')"
   ]
  },
  {
   "cell_type": "code",
   "execution_count": 10,
   "metadata": {},
   "outputs": [],
   "source": [
    "sent = 'Mary saw Bob'.split(' ')\n",
    "rd_parser = nltk.RecursiveDescentParser(grammer1)"
   ]
  },
  {
   "cell_type": "code",
   "execution_count": 11,
   "metadata": {},
   "outputs": [
    {
     "name": "stdout",
     "output_type": "stream",
     "text": [
      "(S (NP Mary) (VP (V saw) (NP Bob)))\n"
     ]
    }
   ],
   "source": [
    "for tree in rd_parser.parse(sent):\n",
    "    print(tree)"
   ]
  },
  {
   "cell_type": "code",
   "execution_count": 16,
   "metadata": {},
   "outputs": [],
   "source": [
    "# grammer1 = nltk.data.load('file:mygrammar.cfg')"
   ]
  },
  {
   "cell_type": "code",
   "execution_count": 17,
   "metadata": {},
   "outputs": [
    {
     "name": "stderr",
     "output_type": "stream",
     "text": [
      "[nltk_data] Error loading home: Package 'home' not found in index\n"
     ]
    },
    {
     "data": {
      "text/plain": [
       "False"
      ]
     },
     "execution_count": 17,
     "metadata": {},
     "output_type": "execute_result"
    }
   ],
   "source": [
    "nltk.download('home')"
   ]
  },
  {
   "cell_type": "code",
   "execution_count": 18,
   "metadata": {},
   "outputs": [
    {
     "name": "stdout",
     "output_type": "stream",
     "text": [
      "(S (NP Mary) (VP (V saw) (NP (Det a) (N dog))))\n"
     ]
    }
   ],
   "source": [
    "sent = 'Mary saw a dog'.split()\n",
    "for t in rd_parser.parse(sent):\n",
    "    print(t)"
   ]
  },
  {
   "cell_type": "code",
   "execution_count": 19,
   "metadata": {},
   "outputs": [
    {
     "data": {
      "text/plain": [
       "'\\naadasdad 1100 000111 1 00 11001100 00001  11111 111 111 010 00 0000 \\n\\x081*(01*0)*\\x08\\n\\n1111\\n1010\\n1011110111011110\\n0101\\n00\\n000\\n00011\\n0001110\\n11111111111100\\n111111111111111100001111111\\n1\\n1\\n11\\n1111\\n010101\\n111\\n0011\\n111111\\n001001011\\n\\n\\n\\x08\\n\\x08\\n(1*01*?01*?)*|\\n\\x08(00)+\\x08|\\n\\x08(11)+\\x08)\\n\\x08\\n\\n\\n\\n(?x)\\n\\x08\\n(?:(               #if\\n(?=\\x08(1*?01*?01*?)+)\\x08 # condition check for the 0 is even\\n(?:                #true than if\\n(?=\\x08(0*?10*?10*?)+)\\x08 # condition check for the 1 is even\\n\\x08(1*?01*?01*?)*\\x08|\\n#\\x08(00)+\\x08\\n)\\n)\\n|\\n\\x08(11)+|(00)+\\x08\\n)\\n\\x08\\n'"
      ]
     },
     "execution_count": 19,
     "metadata": {},
     "output_type": "execute_result"
    }
   ],
   "source": [
    "'''\n",
    "aadasdad 1100 000111 1 00 11001100 00001  11111 111 111 010 00 0000 \n",
    "\\b1*(01*0)*\\b\n",
    "\n",
    "1111\n",
    "1010\n",
    "1011110111011110\n",
    "0101\n",
    "00\n",
    "000\n",
    "00011\n",
    "0001110\n",
    "11111111111100\n",
    "111111111111111100001111111\n",
    "1\n",
    "1\n",
    "11\n",
    "1111\n",
    "010101\n",
    "111\n",
    "0011\n",
    "111111\n",
    "001001011\n",
    "\n",
    "\n",
    "\\b\n",
    "\\b\n",
    "(1*01*?01*?)*|\n",
    "\\b(00)+\\b|\n",
    "\\b(11)+\\b)\n",
    "\\b\n",
    "\n",
    "\n",
    "\n",
    "(?x)\n",
    "\\b\n",
    "(?:(               #if\n",
    "(?=\\b(1*?01*?01*?)+)\\b # condition check for the 0 is even\n",
    "(?:                #true than if\n",
    "(?=\\b(0*?10*?10*?)+)\\b # condition check for the 1 is even\n",
    "\\b(1*?01*?01*?)*\\b|\n",
    "#\\b(00)+\\b\n",
    ")\n",
    ")\n",
    "|\n",
    "\\b(11)+|(00)+\\b\n",
    ")\n",
    "\\b\n",
    "'''"
   ]
  },
  {
   "cell_type": "code",
   "execution_count": 22,
   "metadata": {},
   "outputs": [
    {
     "data": {
      "text/plain": [
       "[[None, None, None], [None, None, None], [None, None, None]]"
      ]
     },
     "execution_count": 22,
     "metadata": {},
     "output_type": "execute_result"
    }
   ],
   "source": [
    "numtokens = 2\n",
    "wfst = [[None for i in range(numtokens+1)] for j in range(numtokens+1)]\n",
    "wfst"
   ]
  },
  {
   "cell_type": "code",
   "execution_count": 23,
   "metadata": {},
   "outputs": [],
   "source": [
    "def init_wfst(tokens,grammar):\n",
    "    numtokens = len(tokens)\n",
    "    wfst = [[None for i in range(numtokens+1)] for j in range(numtokens+1)]\n",
    "    \n",
    "    for i in range(numtokens):\n",
    "        productions = grammar.productions(rhs=tokens[i])\n",
    "        wfst[i][i+1] = productions[0].lhs()\n",
    "        \n",
    "    return wfst"
   ]
  },
  {
   "cell_type": "code",
   "execution_count": 33,
   "metadata": {},
   "outputs": [],
   "source": [
    "def complete_wfst(wfst,tokens,grammar,trace = False):\n",
    "    index = dict((p.rhs(),p.lhs()) for p in grammar.productions())\n",
    "    numtokens = len(tokens)\n",
    "    \n",
    "    for span in range(2,numtokens+1):\n",
    "        for start in range(numtokens+1-span):\n",
    "            end = start + span\n",
    "            \n",
    "            for mid in range(start+1, end):\n",
    "                nt1,nt2 = wfst[start][mid],wfst[mid][end]\n",
    "                \n",
    "                if nt1 and nt2 and (nt1,nt2) in index:\n",
    "                    wfst[start][end] = index[(nt1,nt2)]\n",
    "                    \n",
    "                    if trace:\n",
    "                        print('[%s] %3s [%s] %3s [%s] ==> [%s] %3s [%s]' % \\\n",
    "                             (start,nt1,mid,nt2,end,start,index[(nt1,nt2)],end))\n",
    "    return wfst"
   ]
  },
  {
   "cell_type": "code",
   "execution_count": 46,
   "metadata": {},
   "outputs": [],
   "source": [
    "def display(wfst,tokens):\n",
    "    \n",
    "    print('\\nWFST ' + ' '.join([('%-4d'%i)  for i in range(1,len(wfst))]))\n",
    "    \n",
    "    for i in range(len(wfst)-1):\n",
    "        print('%d    '%i,end='')\n",
    "        for j in range(1,len(wfst)):\n",
    "            print('%-5s'%(wfst[i][j] or '.'),end='')\n",
    "        print()"
   ]
  },
  {
   "cell_type": "code",
   "execution_count": 47,
   "metadata": {},
   "outputs": [],
   "source": [
    "tokens = 'I shot an elephant in my pajamas'.split()\n",
    "wfst0 = init_wfst(tokens ,groucho_grammar)"
   ]
  },
  {
   "cell_type": "code",
   "execution_count": 48,
   "metadata": {},
   "outputs": [
    {
     "name": "stdout",
     "output_type": "stream",
     "text": [
      "\n",
      "WFST 1    2    3    4    5    6    7   \n",
      "0    NP   .    .    .    .    .    .    \n",
      "1    .    V    .    .    .    .    .    \n",
      "2    .    .    Det  .    .    .    .    \n",
      "3    .    .    .    N    .    .    .    \n",
      "4    .    .    .    .    P    .    .    \n",
      "5    .    .    .    .    .    Det  .    \n",
      "6    .    .    .    .    .    .    N    \n"
     ]
    }
   ],
   "source": [
    "display(wfst0,tokens)"
   ]
  },
  {
   "cell_type": "code",
   "execution_count": 49,
   "metadata": {},
   "outputs": [],
   "source": [
    "wfst1 = complete_wfst(wfst0,tokens,groucho_grammar)"
   ]
  },
  {
   "cell_type": "code",
   "execution_count": 50,
   "metadata": {},
   "outputs": [
    {
     "name": "stdout",
     "output_type": "stream",
     "text": [
      "\n",
      "WFST 1    2    3    4    5    6    7   \n",
      "0    NP   .    .    S    .    .    S    \n",
      "1    .    V    .    VP   .    .    VP   \n",
      "2    .    .    Det  NP   .    .    .    \n",
      "3    .    .    .    N    .    .    .    \n",
      "4    .    .    .    .    P    .    PP   \n",
      "5    .    .    .    .    .    Det  NP   \n",
      "6    .    .    .    .    .    .    N    \n"
     ]
    }
   ],
   "source": [
    "display(wfst1,tokens)"
   ]
  },
  {
   "cell_type": "code",
   "execution_count": 51,
   "metadata": {},
   "outputs": [
    {
     "name": "stdout",
     "output_type": "stream",
     "text": [
      "[2] Det [3]   N [4] ==> [2]  NP [4]\n",
      "[5] Det [6]   N [7] ==> [5]  NP [7]\n",
      "[1]   V [2]  NP [4] ==> [1]  VP [4]\n",
      "[4]   P [5]  NP [7] ==> [4]  PP [7]\n",
      "[0]  NP [1]  VP [4] ==> [0]   S [4]\n",
      "[1]  VP [4]  PP [7] ==> [1]  VP [7]\n",
      "[0]  NP [1]  VP [7] ==> [0]   S [7]\n"
     ]
    }
   ],
   "source": [
    "wfst1 = complete_wfst(wfst0,tokens,groucho_grammar,trace = True)"
   ]
  },
  {
   "cell_type": "code",
   "execution_count": null,
   "metadata": {},
   "outputs": [],
   "source": []
  }
 ],
 "metadata": {
  "kernelspec": {
   "display_name": "Python 3",
   "language": "python",
   "name": "python3"
  },
  "language_info": {
   "codemirror_mode": {
    "name": "ipython",
    "version": 3
   },
   "file_extension": ".py",
   "mimetype": "text/x-python",
   "name": "python",
   "nbconvert_exporter": "python",
   "pygments_lexer": "ipython3",
   "version": "3.7.3"
  }
 },
 "nbformat": 4,
 "nbformat_minor": 2
}
